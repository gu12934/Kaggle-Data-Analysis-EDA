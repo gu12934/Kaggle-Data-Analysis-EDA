{
 "cells": [
  {
   "cell_type": "code",
   "execution_count": 1,
   "id": "5606251c",
   "metadata": {
    "_cell_guid": "b1076dfc-b9ad-4769-8c92-a6c4dae69d19",
    "_uuid": "8f2839f25d086af736a60e9eeb907d3b93b6e0e5",
    "execution": {
     "iopub.execute_input": "2023-04-27T20:17:30.243844Z",
     "iopub.status.busy": "2023-04-27T20:17:30.243304Z",
     "iopub.status.idle": "2023-04-27T20:17:30.268703Z",
     "shell.execute_reply": "2023-04-27T20:17:30.267384Z"
    },
    "papermill": {
     "duration": 0.045618,
     "end_time": "2023-04-27T20:17:30.272215",
     "exception": false,
     "start_time": "2023-04-27T20:17:30.226597",
     "status": "completed"
    },
    "tags": []
   },
   "outputs": [
    {
     "name": "stdout",
     "output_type": "stream",
     "text": [
      "/kaggle/input/drug-classification/drug200.csv\n"
     ]
    }
   ],
   "source": [
    "# This Python 3 environment comes with many helpful analytics libraries installed\n",
    "# It is defined by the kaggle/python Docker image: https://github.com/kaggle/docker-python\n",
    "# For example, here's several helpful packages to load\n",
    "\n",
    "import numpy as np # linear algebra\n",
    "import pandas as pd # data processing, CSV file I/O (e.g. pd.read_csv)\n",
    "\n",
    "# Input data files are available in the read-only \"../input/\" directory\n",
    "# For example, running this (by clicking run or pressing Shift+Enter) will list all files under the input directory\n",
    "\n",
    "import os\n",
    "for dirname, _, filenames in os.walk('/kaggle/input'):\n",
    "    for filename in filenames:\n",
    "        print(os.path.join(dirname, filename))\n",
    "\n",
    "# You can write up to 20GB to the current directory (/kaggle/working/) that gets preserved as output when you create a version using \"Save & Run All\" \n",
    "# You can also write temporary files to /kaggle/temp/, but they won't be saved outside of the current session"
   ]
  },
  {
   "cell_type": "markdown",
   "id": "71ff43ac",
   "metadata": {
    "papermill": {
     "duration": 0.012716,
     "end_time": "2023-04-27T20:17:30.298548",
     "exception": false,
     "start_time": "2023-04-27T20:17:30.285832",
     "status": "completed"
    },
    "tags": []
   },
   "source": [
    "#inspired by https://www.kaggle.com/code/hajarikishan/drug-classification-using-random-forest-classifier \n",
    "#this project is mostly for practice"
   ]
  },
  {
   "cell_type": "code",
   "execution_count": 2,
   "id": "4aadf357",
   "metadata": {
    "execution": {
     "iopub.execute_input": "2023-04-27T20:17:30.328452Z",
     "iopub.status.busy": "2023-04-27T20:17:30.328015Z",
     "iopub.status.idle": "2023-04-27T20:17:33.550442Z",
     "shell.execute_reply": "2023-04-27T20:17:33.549012Z"
    },
    "papermill": {
     "duration": 3.242005,
     "end_time": "2023-04-27T20:17:33.554229",
     "exception": false,
     "start_time": "2023-04-27T20:17:30.312224",
     "status": "completed"
    },
    "tags": []
   },
   "outputs": [],
   "source": [
    "#Importing Libraries\n",
    "import pandas as pd\n",
    "import numpy as np\n",
    "import matplotlib.pyplot as plt\n",
    "import seaborn as sns\n",
    "import plotly.express as px"
   ]
  },
  {
   "cell_type": "code",
   "execution_count": 3,
   "id": "d18de8a0",
   "metadata": {
    "execution": {
     "iopub.execute_input": "2023-04-27T20:17:33.593747Z",
     "iopub.status.busy": "2023-04-27T20:17:33.593346Z",
     "iopub.status.idle": "2023-04-27T20:17:33.644429Z",
     "shell.execute_reply": "2023-04-27T20:17:33.643222Z"
    },
    "papermill": {
     "duration": 0.071788,
     "end_time": "2023-04-27T20:17:33.647205",
     "exception": false,
     "start_time": "2023-04-27T20:17:33.575417",
     "status": "completed"
    },
    "tags": []
   },
   "outputs": [
    {
     "data": {
      "text/html": [
       "<div>\n",
       "<style scoped>\n",
       "    .dataframe tbody tr th:only-of-type {\n",
       "        vertical-align: middle;\n",
       "    }\n",
       "\n",
       "    .dataframe tbody tr th {\n",
       "        vertical-align: top;\n",
       "    }\n",
       "\n",
       "    .dataframe thead th {\n",
       "        text-align: right;\n",
       "    }\n",
       "</style>\n",
       "<table border=\"1\" class=\"dataframe\">\n",
       "  <thead>\n",
       "    <tr style=\"text-align: right;\">\n",
       "      <th></th>\n",
       "      <th>Age</th>\n",
       "      <th>Sex</th>\n",
       "      <th>BP</th>\n",
       "      <th>Cholesterol</th>\n",
       "      <th>Na_to_K</th>\n",
       "      <th>Drug</th>\n",
       "    </tr>\n",
       "  </thead>\n",
       "  <tbody>\n",
       "    <tr>\n",
       "      <th>0</th>\n",
       "      <td>23</td>\n",
       "      <td>F</td>\n",
       "      <td>HIGH</td>\n",
       "      <td>HIGH</td>\n",
       "      <td>25.355</td>\n",
       "      <td>DrugY</td>\n",
       "    </tr>\n",
       "    <tr>\n",
       "      <th>1</th>\n",
       "      <td>47</td>\n",
       "      <td>M</td>\n",
       "      <td>LOW</td>\n",
       "      <td>HIGH</td>\n",
       "      <td>13.093</td>\n",
       "      <td>drugC</td>\n",
       "    </tr>\n",
       "    <tr>\n",
       "      <th>2</th>\n",
       "      <td>47</td>\n",
       "      <td>M</td>\n",
       "      <td>LOW</td>\n",
       "      <td>HIGH</td>\n",
       "      <td>10.114</td>\n",
       "      <td>drugC</td>\n",
       "    </tr>\n",
       "    <tr>\n",
       "      <th>3</th>\n",
       "      <td>28</td>\n",
       "      <td>F</td>\n",
       "      <td>NORMAL</td>\n",
       "      <td>HIGH</td>\n",
       "      <td>7.798</td>\n",
       "      <td>drugX</td>\n",
       "    </tr>\n",
       "    <tr>\n",
       "      <th>4</th>\n",
       "      <td>61</td>\n",
       "      <td>F</td>\n",
       "      <td>LOW</td>\n",
       "      <td>HIGH</td>\n",
       "      <td>18.043</td>\n",
       "      <td>DrugY</td>\n",
       "    </tr>\n",
       "    <tr>\n",
       "      <th>...</th>\n",
       "      <td>...</td>\n",
       "      <td>...</td>\n",
       "      <td>...</td>\n",
       "      <td>...</td>\n",
       "      <td>...</td>\n",
       "      <td>...</td>\n",
       "    </tr>\n",
       "    <tr>\n",
       "      <th>195</th>\n",
       "      <td>56</td>\n",
       "      <td>F</td>\n",
       "      <td>LOW</td>\n",
       "      <td>HIGH</td>\n",
       "      <td>11.567</td>\n",
       "      <td>drugC</td>\n",
       "    </tr>\n",
       "    <tr>\n",
       "      <th>196</th>\n",
       "      <td>16</td>\n",
       "      <td>M</td>\n",
       "      <td>LOW</td>\n",
       "      <td>HIGH</td>\n",
       "      <td>12.006</td>\n",
       "      <td>drugC</td>\n",
       "    </tr>\n",
       "    <tr>\n",
       "      <th>197</th>\n",
       "      <td>52</td>\n",
       "      <td>M</td>\n",
       "      <td>NORMAL</td>\n",
       "      <td>HIGH</td>\n",
       "      <td>9.894</td>\n",
       "      <td>drugX</td>\n",
       "    </tr>\n",
       "    <tr>\n",
       "      <th>198</th>\n",
       "      <td>23</td>\n",
       "      <td>M</td>\n",
       "      <td>NORMAL</td>\n",
       "      <td>NORMAL</td>\n",
       "      <td>14.020</td>\n",
       "      <td>drugX</td>\n",
       "    </tr>\n",
       "    <tr>\n",
       "      <th>199</th>\n",
       "      <td>40</td>\n",
       "      <td>F</td>\n",
       "      <td>LOW</td>\n",
       "      <td>NORMAL</td>\n",
       "      <td>11.349</td>\n",
       "      <td>drugX</td>\n",
       "    </tr>\n",
       "  </tbody>\n",
       "</table>\n",
       "<p>200 rows × 6 columns</p>\n",
       "</div>"
      ],
      "text/plain": [
       "     Age Sex      BP Cholesterol  Na_to_K   Drug\n",
       "0     23   F    HIGH        HIGH   25.355  DrugY\n",
       "1     47   M     LOW        HIGH   13.093  drugC\n",
       "2     47   M     LOW        HIGH   10.114  drugC\n",
       "3     28   F  NORMAL        HIGH    7.798  drugX\n",
       "4     61   F     LOW        HIGH   18.043  DrugY\n",
       "..   ...  ..     ...         ...      ...    ...\n",
       "195   56   F     LOW        HIGH   11.567  drugC\n",
       "196   16   M     LOW        HIGH   12.006  drugC\n",
       "197   52   M  NORMAL        HIGH    9.894  drugX\n",
       "198   23   M  NORMAL      NORMAL   14.020  drugX\n",
       "199   40   F     LOW      NORMAL   11.349  drugX\n",
       "\n",
       "[200 rows x 6 columns]"
      ]
     },
     "execution_count": 3,
     "metadata": {},
     "output_type": "execute_result"
    }
   ],
   "source": [
    "#Giving a path to dataset\n",
    "drug_data = pd.read_csv('/kaggle/input/drug-classification/drug200.csv')\n",
    "drug_data"
   ]
  },
  {
   "cell_type": "markdown",
   "id": "c5ea3fad",
   "metadata": {
    "papermill": {
     "duration": 0.013408,
     "end_time": "2023-04-27T20:17:33.674114",
     "exception": false,
     "start_time": "2023-04-27T20:17:33.660706",
     "status": "completed"
    },
    "tags": []
   },
   "source": [
    "# **Data PreProcessing**"
   ]
  },
  {
   "cell_type": "code",
   "execution_count": 4,
   "id": "278facff",
   "metadata": {
    "execution": {
     "iopub.execute_input": "2023-04-27T20:17:33.703544Z",
     "iopub.status.busy": "2023-04-27T20:17:33.703098Z",
     "iopub.status.idle": "2023-04-27T20:17:33.709317Z",
     "shell.execute_reply": "2023-04-27T20:17:33.708450Z"
    },
    "papermill": {
     "duration": 0.023551,
     "end_time": "2023-04-27T20:17:33.711652",
     "exception": false,
     "start_time": "2023-04-27T20:17:33.688101",
     "status": "completed"
    },
    "tags": []
   },
   "outputs": [
    {
     "data": {
      "text/plain": [
       "(200, 6)"
      ]
     },
     "execution_count": 4,
     "metadata": {},
     "output_type": "execute_result"
    }
   ],
   "source": [
    "drug_data.shape"
   ]
  },
  {
   "cell_type": "code",
   "execution_count": 5,
   "id": "5b7133e9",
   "metadata": {
    "execution": {
     "iopub.execute_input": "2023-04-27T20:17:33.742790Z",
     "iopub.status.busy": "2023-04-27T20:17:33.742058Z",
     "iopub.status.idle": "2023-04-27T20:17:33.767813Z",
     "shell.execute_reply": "2023-04-27T20:17:33.765839Z"
    },
    "papermill": {
     "duration": 0.045241,
     "end_time": "2023-04-27T20:17:33.770493",
     "exception": false,
     "start_time": "2023-04-27T20:17:33.725252",
     "status": "completed"
    },
    "tags": []
   },
   "outputs": [
    {
     "name": "stdout",
     "output_type": "stream",
     "text": [
      "<class 'pandas.core.frame.DataFrame'>\n",
      "RangeIndex: 200 entries, 0 to 199\n",
      "Data columns (total 6 columns):\n",
      " #   Column       Non-Null Count  Dtype  \n",
      "---  ------       --------------  -----  \n",
      " 0   Age          200 non-null    int64  \n",
      " 1   Sex          200 non-null    object \n",
      " 2   BP           200 non-null    object \n",
      " 3   Cholesterol  200 non-null    object \n",
      " 4   Na_to_K      200 non-null    float64\n",
      " 5   Drug         200 non-null    object \n",
      "dtypes: float64(1), int64(1), object(4)\n",
      "memory usage: 9.5+ KB\n"
     ]
    }
   ],
   "source": [
    "drug_data.info()"
   ]
  },
  {
   "cell_type": "code",
   "execution_count": 6,
   "id": "16016d59",
   "metadata": {
    "execution": {
     "iopub.execute_input": "2023-04-27T20:17:33.800175Z",
     "iopub.status.busy": "2023-04-27T20:17:33.799714Z",
     "iopub.status.idle": "2023-04-27T20:17:33.809906Z",
     "shell.execute_reply": "2023-04-27T20:17:33.808616Z"
    },
    "papermill": {
     "duration": 0.028564,
     "end_time": "2023-04-27T20:17:33.812408",
     "exception": false,
     "start_time": "2023-04-27T20:17:33.783844",
     "status": "completed"
    },
    "tags": []
   },
   "outputs": [
    {
     "data": {
      "text/plain": [
       "Age            0\n",
       "Sex            0\n",
       "BP             0\n",
       "Cholesterol    0\n",
       "Na_to_K        0\n",
       "Drug           0\n",
       "dtype: int64"
      ]
     },
     "execution_count": 6,
     "metadata": {},
     "output_type": "execute_result"
    }
   ],
   "source": [
    "drug_data.isnull().sum()"
   ]
  },
  {
   "cell_type": "code",
   "execution_count": 7,
   "id": "9b8d35ea",
   "metadata": {
    "execution": {
     "iopub.execute_input": "2023-04-27T20:17:33.843231Z",
     "iopub.status.busy": "2023-04-27T20:17:33.842502Z",
     "iopub.status.idle": "2023-04-27T20:17:33.850807Z",
     "shell.execute_reply": "2023-04-27T20:17:33.849422Z"
    },
    "papermill": {
     "duration": 0.026346,
     "end_time": "2023-04-27T20:17:33.853429",
     "exception": false,
     "start_time": "2023-04-27T20:17:33.827083",
     "status": "completed"
    },
    "tags": []
   },
   "outputs": [
    {
     "data": {
      "text/plain": [
       "array(['DrugY', 'drugC', 'drugX', 'drugA', 'drugB'], dtype=object)"
      ]
     },
     "execution_count": 7,
     "metadata": {},
     "output_type": "execute_result"
    }
   ],
   "source": [
    "drug_data['Drug'].unique()"
   ]
  },
  {
   "cell_type": "code",
   "execution_count": 8,
   "id": "4f7d2bcb",
   "metadata": {
    "execution": {
     "iopub.execute_input": "2023-04-27T20:17:33.883443Z",
     "iopub.status.busy": "2023-04-27T20:17:33.882354Z",
     "iopub.status.idle": "2023-04-27T20:17:33.889439Z",
     "shell.execute_reply": "2023-04-27T20:17:33.888518Z"
    },
    "papermill": {
     "duration": 0.024474,
     "end_time": "2023-04-27T20:17:33.891723",
     "exception": false,
     "start_time": "2023-04-27T20:17:33.867249",
     "status": "completed"
    },
    "tags": []
   },
   "outputs": [
    {
     "data": {
      "text/plain": [
       "array(['F', 'M'], dtype=object)"
      ]
     },
     "execution_count": 8,
     "metadata": {},
     "output_type": "execute_result"
    }
   ],
   "source": [
    "drug_data['Sex'].unique()"
   ]
  },
  {
   "cell_type": "markdown",
   "id": "b51f32e1",
   "metadata": {
    "papermill": {
     "duration": 0.013598,
     "end_time": "2023-04-27T20:17:33.919244",
     "exception": false,
     "start_time": "2023-04-27T20:17:33.905646",
     "status": "completed"
    },
    "tags": []
   },
   "source": [
    "Can check for other unique values as well\n"
   ]
  },
  {
   "cell_type": "code",
   "execution_count": 9,
   "id": "840efe6f",
   "metadata": {
    "execution": {
     "iopub.execute_input": "2023-04-27T20:17:33.949814Z",
     "iopub.status.busy": "2023-04-27T20:17:33.949015Z",
     "iopub.status.idle": "2023-04-27T20:17:33.954412Z",
     "shell.execute_reply": "2023-04-27T20:17:33.953471Z"
    },
    "papermill": {
     "duration": 0.02345,
     "end_time": "2023-04-27T20:17:33.956945",
     "exception": false,
     "start_time": "2023-04-27T20:17:33.933495",
     "status": "completed"
    },
    "tags": []
   },
   "outputs": [],
   "source": [
    "drug_data.rename(columns = {'Sex':'Gender'}, inplace = True)"
   ]
  },
  {
   "cell_type": "code",
   "execution_count": 10,
   "id": "a41ac5d3",
   "metadata": {
    "execution": {
     "iopub.execute_input": "2023-04-27T20:17:33.988035Z",
     "iopub.status.busy": "2023-04-27T20:17:33.987260Z",
     "iopub.status.idle": "2023-04-27T20:17:34.001334Z",
     "shell.execute_reply": "2023-04-27T20:17:34.000284Z"
    },
    "papermill": {
     "duration": 0.032483,
     "end_time": "2023-04-27T20:17:34.004069",
     "exception": false,
     "start_time": "2023-04-27T20:17:33.971586",
     "status": "completed"
    },
    "tags": []
   },
   "outputs": [
    {
     "data": {
      "text/html": [
       "<div>\n",
       "<style scoped>\n",
       "    .dataframe tbody tr th:only-of-type {\n",
       "        vertical-align: middle;\n",
       "    }\n",
       "\n",
       "    .dataframe tbody tr th {\n",
       "        vertical-align: top;\n",
       "    }\n",
       "\n",
       "    .dataframe thead th {\n",
       "        text-align: right;\n",
       "    }\n",
       "</style>\n",
       "<table border=\"1\" class=\"dataframe\">\n",
       "  <thead>\n",
       "    <tr style=\"text-align: right;\">\n",
       "      <th></th>\n",
       "      <th>Age</th>\n",
       "      <th>Gender</th>\n",
       "      <th>BP</th>\n",
       "      <th>Cholesterol</th>\n",
       "      <th>Na_to_K</th>\n",
       "      <th>Drug</th>\n",
       "    </tr>\n",
       "  </thead>\n",
       "  <tbody>\n",
       "    <tr>\n",
       "      <th>0</th>\n",
       "      <td>23</td>\n",
       "      <td>F</td>\n",
       "      <td>HIGH</td>\n",
       "      <td>HIGH</td>\n",
       "      <td>25.355</td>\n",
       "      <td>DrugY</td>\n",
       "    </tr>\n",
       "    <tr>\n",
       "      <th>1</th>\n",
       "      <td>47</td>\n",
       "      <td>M</td>\n",
       "      <td>LOW</td>\n",
       "      <td>HIGH</td>\n",
       "      <td>13.093</td>\n",
       "      <td>drugC</td>\n",
       "    </tr>\n",
       "    <tr>\n",
       "      <th>2</th>\n",
       "      <td>47</td>\n",
       "      <td>M</td>\n",
       "      <td>LOW</td>\n",
       "      <td>HIGH</td>\n",
       "      <td>10.114</td>\n",
       "      <td>drugC</td>\n",
       "    </tr>\n",
       "    <tr>\n",
       "      <th>3</th>\n",
       "      <td>28</td>\n",
       "      <td>F</td>\n",
       "      <td>NORMAL</td>\n",
       "      <td>HIGH</td>\n",
       "      <td>7.798</td>\n",
       "      <td>drugX</td>\n",
       "    </tr>\n",
       "    <tr>\n",
       "      <th>4</th>\n",
       "      <td>61</td>\n",
       "      <td>F</td>\n",
       "      <td>LOW</td>\n",
       "      <td>HIGH</td>\n",
       "      <td>18.043</td>\n",
       "      <td>DrugY</td>\n",
       "    </tr>\n",
       "  </tbody>\n",
       "</table>\n",
       "</div>"
      ],
      "text/plain": [
       "   Age Gender      BP Cholesterol  Na_to_K   Drug\n",
       "0   23      F    HIGH        HIGH   25.355  DrugY\n",
       "1   47      M     LOW        HIGH   13.093  drugC\n",
       "2   47      M     LOW        HIGH   10.114  drugC\n",
       "3   28      F  NORMAL        HIGH    7.798  drugX\n",
       "4   61      F     LOW        HIGH   18.043  DrugY"
      ]
     },
     "execution_count": 10,
     "metadata": {},
     "output_type": "execute_result"
    }
   ],
   "source": [
    "drug_data.head()"
   ]
  },
  {
   "cell_type": "code",
   "execution_count": 11,
   "id": "d5d4f69f",
   "metadata": {
    "execution": {
     "iopub.execute_input": "2023-04-27T20:17:34.035113Z",
     "iopub.status.busy": "2023-04-27T20:17:34.033958Z",
     "iopub.status.idle": "2023-04-27T20:17:34.054844Z",
     "shell.execute_reply": "2023-04-27T20:17:34.053540Z"
    },
    "papermill": {
     "duration": 0.039368,
     "end_time": "2023-04-27T20:17:34.057648",
     "exception": false,
     "start_time": "2023-04-27T20:17:34.018280",
     "status": "completed"
    },
    "tags": []
   },
   "outputs": [
    {
     "data": {
      "text/html": [
       "<div>\n",
       "<style scoped>\n",
       "    .dataframe tbody tr th:only-of-type {\n",
       "        vertical-align: middle;\n",
       "    }\n",
       "\n",
       "    .dataframe tbody tr th {\n",
       "        vertical-align: top;\n",
       "    }\n",
       "\n",
       "    .dataframe thead th {\n",
       "        text-align: right;\n",
       "    }\n",
       "</style>\n",
       "<table border=\"1\" class=\"dataframe\">\n",
       "  <thead>\n",
       "    <tr style=\"text-align: right;\">\n",
       "      <th></th>\n",
       "      <th>Age</th>\n",
       "      <th>Na_to_K</th>\n",
       "    </tr>\n",
       "  </thead>\n",
       "  <tbody>\n",
       "    <tr>\n",
       "      <th>count</th>\n",
       "      <td>200.000000</td>\n",
       "      <td>200.000000</td>\n",
       "    </tr>\n",
       "    <tr>\n",
       "      <th>mean</th>\n",
       "      <td>44.315000</td>\n",
       "      <td>16.084485</td>\n",
       "    </tr>\n",
       "    <tr>\n",
       "      <th>std</th>\n",
       "      <td>16.544315</td>\n",
       "      <td>7.223956</td>\n",
       "    </tr>\n",
       "    <tr>\n",
       "      <th>min</th>\n",
       "      <td>15.000000</td>\n",
       "      <td>6.269000</td>\n",
       "    </tr>\n",
       "    <tr>\n",
       "      <th>25%</th>\n",
       "      <td>31.000000</td>\n",
       "      <td>10.445500</td>\n",
       "    </tr>\n",
       "    <tr>\n",
       "      <th>50%</th>\n",
       "      <td>45.000000</td>\n",
       "      <td>13.936500</td>\n",
       "    </tr>\n",
       "    <tr>\n",
       "      <th>75%</th>\n",
       "      <td>58.000000</td>\n",
       "      <td>19.380000</td>\n",
       "    </tr>\n",
       "    <tr>\n",
       "      <th>max</th>\n",
       "      <td>74.000000</td>\n",
       "      <td>38.247000</td>\n",
       "    </tr>\n",
       "  </tbody>\n",
       "</table>\n",
       "</div>"
      ],
      "text/plain": [
       "              Age     Na_to_K\n",
       "count  200.000000  200.000000\n",
       "mean    44.315000   16.084485\n",
       "std     16.544315    7.223956\n",
       "min     15.000000    6.269000\n",
       "25%     31.000000   10.445500\n",
       "50%     45.000000   13.936500\n",
       "75%     58.000000   19.380000\n",
       "max     74.000000   38.247000"
      ]
     },
     "execution_count": 11,
     "metadata": {},
     "output_type": "execute_result"
    }
   ],
   "source": [
    "drug_data.describe()"
   ]
  },
  {
   "cell_type": "code",
   "execution_count": 12,
   "id": "ad6e4156",
   "metadata": {
    "execution": {
     "iopub.execute_input": "2023-04-27T20:17:34.088504Z",
     "iopub.status.busy": "2023-04-27T20:17:34.088085Z",
     "iopub.status.idle": "2023-04-27T20:17:34.095757Z",
     "shell.execute_reply": "2023-04-27T20:17:34.094486Z"
    },
    "papermill": {
     "duration": 0.026234,
     "end_time": "2023-04-27T20:17:34.098393",
     "exception": false,
     "start_time": "2023-04-27T20:17:34.072159",
     "status": "completed"
    },
    "tags": []
   },
   "outputs": [
    {
     "data": {
      "text/plain": [
       "Index(['Age', 'Gender', 'BP', 'Cholesterol', 'Na_to_K', 'Drug'], dtype='object')"
      ]
     },
     "execution_count": 12,
     "metadata": {},
     "output_type": "execute_result"
    }
   ],
   "source": [
    "drug_data.columns"
   ]
  },
  {
   "cell_type": "markdown",
   "id": "dc083f2b",
   "metadata": {
    "papermill": {
     "duration": 0.014016,
     "end_time": "2023-04-27T20:17:34.127034",
     "exception": false,
     "start_time": "2023-04-27T20:17:34.113018",
     "status": "completed"
    },
    "tags": []
   },
   "source": [
    "# Label Encoding"
   ]
  },
  {
   "cell_type": "code",
   "execution_count": 13,
   "id": "3ac3a0d5",
   "metadata": {
    "execution": {
     "iopub.execute_input": "2023-04-27T20:17:34.159192Z",
     "iopub.status.busy": "2023-04-27T20:17:34.158738Z",
     "iopub.status.idle": "2023-04-27T20:17:34.324473Z",
     "shell.execute_reply": "2023-04-27T20:17:34.323267Z"
    },
    "papermill": {
     "duration": 0.185435,
     "end_time": "2023-04-27T20:17:34.327569",
     "exception": false,
     "start_time": "2023-04-27T20:17:34.142134",
     "status": "completed"
    },
    "tags": []
   },
   "outputs": [],
   "source": [
    "#importing sklearn libraries and encoding labels for each of the columns\n",
    "from sklearn import preprocessing\n",
    "label_encoder=preprocessing.LabelEncoder()\n",
    "drug_data['Gender']=  label_encoder.fit_transform(drug_data['Gender'])\n",
    "drug_data['BP']=label_encoder.fit_transform(drug_data['BP'])\n",
    "drug_data['Drug'] = label_encoder.fit_transform(drug_data['Drug'])\n",
    "drug_data['Cholesterol'] = label_encoder.fit_transform(drug_data['Cholesterol'])"
   ]
  },
  {
   "cell_type": "code",
   "execution_count": 14,
   "id": "9d6519f8",
   "metadata": {
    "execution": {
     "iopub.execute_input": "2023-04-27T20:17:34.359054Z",
     "iopub.status.busy": "2023-04-27T20:17:34.358340Z",
     "iopub.status.idle": "2023-04-27T20:17:34.372749Z",
     "shell.execute_reply": "2023-04-27T20:17:34.371425Z"
    },
    "papermill": {
     "duration": 0.032938,
     "end_time": "2023-04-27T20:17:34.375272",
     "exception": false,
     "start_time": "2023-04-27T20:17:34.342334",
     "status": "completed"
    },
    "tags": []
   },
   "outputs": [
    {
     "data": {
      "text/html": [
       "<div>\n",
       "<style scoped>\n",
       "    .dataframe tbody tr th:only-of-type {\n",
       "        vertical-align: middle;\n",
       "    }\n",
       "\n",
       "    .dataframe tbody tr th {\n",
       "        vertical-align: top;\n",
       "    }\n",
       "\n",
       "    .dataframe thead th {\n",
       "        text-align: right;\n",
       "    }\n",
       "</style>\n",
       "<table border=\"1\" class=\"dataframe\">\n",
       "  <thead>\n",
       "    <tr style=\"text-align: right;\">\n",
       "      <th></th>\n",
       "      <th>Age</th>\n",
       "      <th>Gender</th>\n",
       "      <th>BP</th>\n",
       "      <th>Cholesterol</th>\n",
       "      <th>Na_to_K</th>\n",
       "      <th>Drug</th>\n",
       "    </tr>\n",
       "  </thead>\n",
       "  <tbody>\n",
       "    <tr>\n",
       "      <th>0</th>\n",
       "      <td>23</td>\n",
       "      <td>0</td>\n",
       "      <td>0</td>\n",
       "      <td>0</td>\n",
       "      <td>25.355</td>\n",
       "      <td>0</td>\n",
       "    </tr>\n",
       "    <tr>\n",
       "      <th>1</th>\n",
       "      <td>47</td>\n",
       "      <td>1</td>\n",
       "      <td>1</td>\n",
       "      <td>0</td>\n",
       "      <td>13.093</td>\n",
       "      <td>3</td>\n",
       "    </tr>\n",
       "    <tr>\n",
       "      <th>2</th>\n",
       "      <td>47</td>\n",
       "      <td>1</td>\n",
       "      <td>1</td>\n",
       "      <td>0</td>\n",
       "      <td>10.114</td>\n",
       "      <td>3</td>\n",
       "    </tr>\n",
       "    <tr>\n",
       "      <th>3</th>\n",
       "      <td>28</td>\n",
       "      <td>0</td>\n",
       "      <td>2</td>\n",
       "      <td>0</td>\n",
       "      <td>7.798</td>\n",
       "      <td>4</td>\n",
       "    </tr>\n",
       "    <tr>\n",
       "      <th>4</th>\n",
       "      <td>61</td>\n",
       "      <td>0</td>\n",
       "      <td>1</td>\n",
       "      <td>0</td>\n",
       "      <td>18.043</td>\n",
       "      <td>0</td>\n",
       "    </tr>\n",
       "    <tr>\n",
       "      <th>5</th>\n",
       "      <td>22</td>\n",
       "      <td>0</td>\n",
       "      <td>2</td>\n",
       "      <td>0</td>\n",
       "      <td>8.607</td>\n",
       "      <td>4</td>\n",
       "    </tr>\n",
       "    <tr>\n",
       "      <th>6</th>\n",
       "      <td>49</td>\n",
       "      <td>0</td>\n",
       "      <td>2</td>\n",
       "      <td>0</td>\n",
       "      <td>16.275</td>\n",
       "      <td>0</td>\n",
       "    </tr>\n",
       "    <tr>\n",
       "      <th>7</th>\n",
       "      <td>41</td>\n",
       "      <td>1</td>\n",
       "      <td>1</td>\n",
       "      <td>0</td>\n",
       "      <td>11.037</td>\n",
       "      <td>3</td>\n",
       "    </tr>\n",
       "    <tr>\n",
       "      <th>8</th>\n",
       "      <td>60</td>\n",
       "      <td>1</td>\n",
       "      <td>2</td>\n",
       "      <td>0</td>\n",
       "      <td>15.171</td>\n",
       "      <td>0</td>\n",
       "    </tr>\n",
       "    <tr>\n",
       "      <th>9</th>\n",
       "      <td>43</td>\n",
       "      <td>1</td>\n",
       "      <td>1</td>\n",
       "      <td>1</td>\n",
       "      <td>19.368</td>\n",
       "      <td>0</td>\n",
       "    </tr>\n",
       "    <tr>\n",
       "      <th>10</th>\n",
       "      <td>47</td>\n",
       "      <td>0</td>\n",
       "      <td>1</td>\n",
       "      <td>0</td>\n",
       "      <td>11.767</td>\n",
       "      <td>3</td>\n",
       "    </tr>\n",
       "    <tr>\n",
       "      <th>11</th>\n",
       "      <td>34</td>\n",
       "      <td>0</td>\n",
       "      <td>0</td>\n",
       "      <td>1</td>\n",
       "      <td>19.199</td>\n",
       "      <td>0</td>\n",
       "    </tr>\n",
       "    <tr>\n",
       "      <th>12</th>\n",
       "      <td>43</td>\n",
       "      <td>1</td>\n",
       "      <td>1</td>\n",
       "      <td>0</td>\n",
       "      <td>15.376</td>\n",
       "      <td>0</td>\n",
       "    </tr>\n",
       "    <tr>\n",
       "      <th>13</th>\n",
       "      <td>74</td>\n",
       "      <td>0</td>\n",
       "      <td>1</td>\n",
       "      <td>0</td>\n",
       "      <td>20.942</td>\n",
       "      <td>0</td>\n",
       "    </tr>\n",
       "    <tr>\n",
       "      <th>14</th>\n",
       "      <td>50</td>\n",
       "      <td>0</td>\n",
       "      <td>2</td>\n",
       "      <td>0</td>\n",
       "      <td>12.703</td>\n",
       "      <td>4</td>\n",
       "    </tr>\n",
       "  </tbody>\n",
       "</table>\n",
       "</div>"
      ],
      "text/plain": [
       "    Age  Gender  BP  Cholesterol  Na_to_K  Drug\n",
       "0    23       0   0            0   25.355     0\n",
       "1    47       1   1            0   13.093     3\n",
       "2    47       1   1            0   10.114     3\n",
       "3    28       0   2            0    7.798     4\n",
       "4    61       0   1            0   18.043     0\n",
       "5    22       0   2            0    8.607     4\n",
       "6    49       0   2            0   16.275     0\n",
       "7    41       1   1            0   11.037     3\n",
       "8    60       1   2            0   15.171     0\n",
       "9    43       1   1            1   19.368     0\n",
       "10   47       0   1            0   11.767     3\n",
       "11   34       0   0            1   19.199     0\n",
       "12   43       1   1            0   15.376     0\n",
       "13   74       0   1            0   20.942     0\n",
       "14   50       0   2            0   12.703     4"
      ]
     },
     "execution_count": 14,
     "metadata": {},
     "output_type": "execute_result"
    }
   ],
   "source": [
    "drug_data.head(15)\n",
    "#as can be seen all is encoded except for Na_to_K"
   ]
  },
  {
   "cell_type": "code",
   "execution_count": 15,
   "id": "f96d8f49",
   "metadata": {
    "execution": {
     "iopub.execute_input": "2023-04-27T20:17:34.407387Z",
     "iopub.status.busy": "2023-04-27T20:17:34.406639Z",
     "iopub.status.idle": "2023-04-27T20:17:34.415886Z",
     "shell.execute_reply": "2023-04-27T20:17:34.414692Z"
    },
    "papermill": {
     "duration": 0.028484,
     "end_time": "2023-04-27T20:17:34.418347",
     "exception": false,
     "start_time": "2023-04-27T20:17:34.389863",
     "status": "completed"
    },
    "tags": []
   },
   "outputs": [
    {
     "data": {
      "text/plain": [
       "array([0, 3, 4, 1, 2])"
      ]
     },
     "execution_count": 15,
     "metadata": {},
     "output_type": "execute_result"
    }
   ],
   "source": [
    "drug_data['Drug'].unique()\n",
    "#checking for unique values in drug"
   ]
  },
  {
   "cell_type": "markdown",
   "id": "b211cd41",
   "metadata": {
    "papermill": {
     "duration": 0.014714,
     "end_time": "2023-04-27T20:17:34.447881",
     "exception": false,
     "start_time": "2023-04-27T20:17:34.433167",
     "status": "completed"
    },
    "tags": []
   },
   "source": [
    "# Feature Scaling"
   ]
  },
  {
   "cell_type": "code",
   "execution_count": 16,
   "id": "a9e5401b",
   "metadata": {
    "execution": {
     "iopub.execute_input": "2023-04-27T20:17:34.481952Z",
     "iopub.status.busy": "2023-04-27T20:17:34.481009Z",
     "iopub.status.idle": "2023-04-27T20:17:34.575363Z",
     "shell.execute_reply": "2023-04-27T20:17:34.574015Z"
    },
    "papermill": {
     "duration": 0.114034,
     "end_time": "2023-04-27T20:17:34.578251",
     "exception": false,
     "start_time": "2023-04-27T20:17:34.464217",
     "status": "completed"
    },
    "tags": []
   },
   "outputs": [
    {
     "data": {
      "text/plain": [
       "((140, 3), (60, 3))"
      ]
     },
     "execution_count": 16,
     "metadata": {},
     "output_type": "execute_result"
    }
   ],
   "source": [
    "#importing train test split\n",
    "from sklearn.model_selection import train_test_split\n",
    "X_train, X_test, y_train, y_test = train_test_split(drug_data[['Age', 'Gender', 'Drug']], drug_data.Age, test_size=0.3, random_state=0)\n",
    "\n",
    "#tells how big the train and test sets are \n",
    "X_train.shape, X_test.shape"
   ]
  },
  {
   "cell_type": "code",
   "execution_count": 17,
   "id": "0cc4f70f",
   "metadata": {
    "execution": {
     "iopub.execute_input": "2023-04-27T20:17:34.610957Z",
     "iopub.status.busy": "2023-04-27T20:17:34.610480Z",
     "iopub.status.idle": "2023-04-27T20:17:34.626259Z",
     "shell.execute_reply": "2023-04-27T20:17:34.624738Z"
    },
    "papermill": {
     "duration": 0.037308,
     "end_time": "2023-04-27T20:17:34.630650",
     "exception": false,
     "start_time": "2023-04-27T20:17:34.593342",
     "status": "completed"
    },
    "tags": []
   },
   "outputs": [],
   "source": [
    "#scaling the models now using RobustScaler\n",
    "\n",
    "from sklearn.preprocessing import RobustScaler\n",
    "\n",
    "scaler=RobustScaler()\n",
    "X_train_scaled_ro=scaler.fit_transform(X_train)\n",
    "X_test_scaled_ro=scaler.transform(X_test)"
   ]
  },
  {
   "cell_type": "code",
   "execution_count": 18,
   "id": "15296438",
   "metadata": {
    "execution": {
     "iopub.execute_input": "2023-04-27T20:17:34.667000Z",
     "iopub.status.busy": "2023-04-27T20:17:34.666158Z",
     "iopub.status.idle": "2023-04-27T20:17:34.673571Z",
     "shell.execute_reply": "2023-04-27T20:17:34.672012Z"
    },
    "papermill": {
     "duration": 0.026722,
     "end_time": "2023-04-27T20:17:34.676126",
     "exception": false,
     "start_time": "2023-04-27T20:17:34.649404",
     "status": "completed"
    },
    "tags": []
   },
   "outputs": [
    {
     "name": "stdout",
     "output_type": "stream",
     "text": [
      "mean value of Age, Gender, Drug features:  [-0.06181319 -0.45        0.15      ]\n",
      "std value of Age, Gender, Drug features:  [0.63505424 0.49749372 0.44556066]\n"
     ]
    }
   ],
   "source": [
    "#printing mean values of the train scaled dataset\n",
    "print('mean value of Age, Gender, Drug features: ', X_train_scaled_ro.mean(axis=0))\n",
    "print('std value of Age, Gender, Drug features: ', X_test_scaled_ro.std(axis=0))"
   ]
  },
  {
   "cell_type": "markdown",
   "id": "737b4fcb",
   "metadata": {
    "papermill": {
     "duration": 0.014489,
     "end_time": "2023-04-27T20:17:34.705723",
     "exception": false,
     "start_time": "2023-04-27T20:17:34.691234",
     "status": "completed"
    },
    "tags": []
   },
   "source": [
    "# EDA"
   ]
  },
  {
   "cell_type": "code",
   "execution_count": 19,
   "id": "0c505212",
   "metadata": {
    "execution": {
     "iopub.execute_input": "2023-04-27T20:17:34.737705Z",
     "iopub.status.busy": "2023-04-27T20:17:34.736898Z",
     "iopub.status.idle": "2023-04-27T20:17:34.954116Z",
     "shell.execute_reply": "2023-04-27T20:17:34.952521Z"
    },
    "papermill": {
     "duration": 0.236537,
     "end_time": "2023-04-27T20:17:34.957066",
     "exception": false,
     "start_time": "2023-04-27T20:17:34.720529",
     "status": "completed"
    },
    "tags": []
   },
   "outputs": [
    {
     "name": "stdout",
     "output_type": "stream",
     "text": [
      "Number of cells labeled Benign :  103\n",
      "Number of cells labelled Maligant :  97\n",
      "\n",
      "% of cells labeled Benign 51.5 %\n",
      "% of cells labeled Malignant 48.5 %\n"
     ]
    },
    {
     "data": {
      "image/png": "[encoded data removed]",
      "text/plain": [
       "<Figure size 600x400 with 1 Axes>"
      ]
     },
     "metadata": {},
     "output_type": "display_data"
    }
   ],
   "source": [
    "plt.figure(figsize=(6,4))\n",
    "sns.countplot(x=drug_data['Cholesterol'], palette='RdBu')\n",
    "\n",
    "benign, malignant = drug_data['Cholesterol'].value_counts()\n",
    "#counts\n",
    "print('Number of cells labeled Benign : ', benign)\n",
    "print('Number of cells labelled Maligant : ', malignant)\n",
    "\n",
    "print('')\n",
    "\n",
    "#percentages\n",
    "print('% of cells labeled Benign', round(benign/ len(drug_data) * 100,2),'%')\n",
    "\n",
    "print('% of cells labeled Malignant', round(malignant / len(drug_data) * 100, 2), '%')\n",
    "#display plot\n",
    "plt.show()"
   ]
  },
  {
   "cell_type": "code",
   "execution_count": 20,
   "id": "46014359",
   "metadata": {
    "execution": {
     "iopub.execute_input": "2023-04-27T20:17:34.991317Z",
     "iopub.status.busy": "2023-04-27T20:17:34.990191Z",
     "iopub.status.idle": "2023-04-27T20:17:35.337096Z",
     "shell.execute_reply": "2023-04-27T20:17:35.335690Z"
    },
    "papermill": {
     "duration": 0.366549,
     "end_time": "2023-04-27T20:17:35.339882",
     "exception": false,
     "start_time": "2023-04-27T20:17:34.973333",
     "status": "completed"
    },
    "tags": []
   },
   "outputs": [
    {
     "data": {
      "image/png": "[encoded data removed]",
      "text/plain": [
       "<Figure size 800x600 with 1 Axes>"
      ]
     },
     "metadata": {},
     "output_type": "display_data"
    }
   ],
   "source": [
    "#plotting the graphs of different drugs\n",
    "\n",
    "plt.figure(figsize=(8,6))\n",
    "g=sns.barplot(data=drug_data, x='Drug', y='Age')\n",
    "plt.xticks(rotation=30)\n",
    "plt.show()"
   ]
  },
  {
   "cell_type": "code",
   "execution_count": 21,
   "id": "dfc9903d",
   "metadata": {
    "execution": {
     "iopub.execute_input": "2023-04-27T20:17:35.375501Z",
     "iopub.status.busy": "2023-04-27T20:17:35.375040Z",
     "iopub.status.idle": "2023-04-27T20:17:36.228511Z",
     "shell.execute_reply": "2023-04-27T20:17:36.227026Z"
    },
    "papermill": {
     "duration": 0.87554,
     "end_time": "2023-04-27T20:17:36.231834",
     "exception": false,
     "start_time": "2023-04-27T20:17:35.356294",
     "status": "completed"
    },
    "tags": []
   },
   "outputs": [
    {
     "data": {
      "image/png": "[encoded data removed]",
      "text/plain": [
       "<Figure size 600x600 with 3 Axes>"
      ]
     },
     "metadata": {},
     "output_type": "display_data"
    }
   ],
   "source": [
    "#making a plot to correlate age and cholestorel\n",
    "sns.jointplot(x=drug_data.loc[:,'Age'],y=drug_data.loc[:,'Cholesterol'], kind='reg', color=\"#ce1414\")\n",
    "plt.show()\n"
   ]
  },
  {
   "cell_type": "markdown",
   "id": "dab7b47b",
   "metadata": {
    "papermill": {
     "duration": 0.016066,
     "end_time": "2023-04-27T20:17:36.264134",
     "exception": false,
     "start_time": "2023-04-27T20:17:36.248068",
     "status": "completed"
    },
    "tags": []
   },
   "source": [
    "Can see that it is highest cholestorol around 40-50 years of ge"
   ]
  },
  {
   "cell_type": "code",
   "execution_count": 22,
   "id": "2279da5e",
   "metadata": {
    "execution": {
     "iopub.execute_input": "2023-04-27T20:17:36.299153Z",
     "iopub.status.busy": "2023-04-27T20:17:36.298187Z",
     "iopub.status.idle": "2023-04-27T20:17:36.742074Z",
     "shell.execute_reply": "2023-04-27T20:17:36.741045Z"
    },
    "papermill": {
     "duration": 0.463999,
     "end_time": "2023-04-27T20:17:36.744692",
     "exception": false,
     "start_time": "2023-04-27T20:17:36.280693",
     "status": "completed"
    },
    "tags": []
   },
   "outputs": [
    {
     "data": {
      "image/png": "[encoded data removed]",
      "text/plain": [
       "<Figure size 800x600 with 2 Axes>"
      ]
     },
     "metadata": {},
     "output_type": "display_data"
    }
   ],
   "source": [
    "#heatmap to see correlations\n",
    "fig, ax = plt.subplots(figsize=(8, 6))\n",
    "sns.heatmap(drug_data.corr(), annot = True, linewidths = .5, fmt = '.1f',ax = ax, cmap = 'Blues')\n",
    "plt.show()"
   ]
  },
  {
   "cell_type": "markdown",
   "id": "462af301",
   "metadata": {
    "papermill": {
     "duration": 0.017281,
     "end_time": "2023-04-27T20:17:36.779870",
     "exception": false,
     "start_time": "2023-04-27T20:17:36.762589",
     "status": "completed"
    },
    "tags": []
   },
   "source": [
    "# Splitting data"
   ]
  },
  {
   "cell_type": "code",
   "execution_count": 23,
   "id": "b4866f4b",
   "metadata": {
    "execution": {
     "iopub.execute_input": "2023-04-27T20:17:36.818014Z",
     "iopub.status.busy": "2023-04-27T20:17:36.817264Z",
     "iopub.status.idle": "2023-04-27T20:17:36.824887Z",
     "shell.execute_reply": "2023-04-27T20:17:36.823200Z"
    },
    "papermill": {
     "duration": 0.030178,
     "end_time": "2023-04-27T20:17:36.827974",
     "exception": false,
     "start_time": "2023-04-27T20:17:36.797796",
     "status": "completed"
    },
    "tags": []
   },
   "outputs": [
    {
     "data": {
      "text/plain": [
       "Index(['Age', 'Gender', 'BP', 'Cholesterol', 'Na_to_K', 'Drug'], dtype='object')"
      ]
     },
     "execution_count": 23,
     "metadata": {},
     "output_type": "execute_result"
    }
   ],
   "source": [
    "drug_data.columns"
   ]
  },
  {
   "cell_type": "code",
   "execution_count": 24,
   "id": "044014ac",
   "metadata": {
    "execution": {
     "iopub.execute_input": "2023-04-27T20:17:36.868729Z",
     "iopub.status.busy": "2023-04-27T20:17:36.868267Z",
     "iopub.status.idle": "2023-04-27T20:17:36.875214Z",
     "shell.execute_reply": "2023-04-27T20:17:36.873852Z"
    },
    "papermill": {
     "duration": 0.031258,
     "end_time": "2023-04-27T20:17:36.878255",
     "exception": false,
     "start_time": "2023-04-27T20:17:36.846997",
     "status": "completed"
    },
    "tags": []
   },
   "outputs": [],
   "source": [
    "X = drug_data[['Age', 'Gender', 'BP', 'Cholesterol', 'Na_to_K']]\n",
    "Y = drug_data['Drug'] "
   ]
  },
  {
   "cell_type": "code",
   "execution_count": 25,
   "id": "705f012d",
   "metadata": {
    "execution": {
     "iopub.execute_input": "2023-04-27T20:17:36.917542Z",
     "iopub.status.busy": "2023-04-27T20:17:36.916650Z",
     "iopub.status.idle": "2023-04-27T20:17:36.923534Z",
     "shell.execute_reply": "2023-04-27T20:17:36.922375Z"
    },
    "papermill": {
     "duration": 0.030303,
     "end_time": "2023-04-27T20:17:36.926569",
     "exception": false,
     "start_time": "2023-04-27T20:17:36.896266",
     "status": "completed"
    },
    "tags": []
   },
   "outputs": [],
   "source": [
    "from sklearn.model_selection import train_test_split\n",
    "x_train, x_test, y_train, y_test = train_test_split(X, Y, test_size=0.3)"
   ]
  },
  {
   "cell_type": "code",
   "execution_count": 26,
   "id": "a0ff6ce1",
   "metadata": {
    "execution": {
     "iopub.execute_input": "2023-04-27T20:17:36.966176Z",
     "iopub.status.busy": "2023-04-27T20:17:36.965422Z",
     "iopub.status.idle": "2023-04-27T20:17:36.973083Z",
     "shell.execute_reply": "2023-04-27T20:17:36.971354Z"
    },
    "papermill": {
     "duration": 0.031642,
     "end_time": "2023-04-27T20:17:36.977414",
     "exception": false,
     "start_time": "2023-04-27T20:17:36.945772",
     "status": "completed"
    },
    "tags": []
   },
   "outputs": [
    {
     "name": "stdout",
     "output_type": "stream",
     "text": [
      "x_train:  (140, 5)\n",
      "x_test:  (60, 5)\n",
      "y_train:  (140,)\n",
      "y_test:  (60,)\n"
     ]
    }
   ],
   "source": [
    "#printing train and test shape of each column\n",
    "print('x_train: ', x_train.shape)\n",
    "print('x_test: ', x_test.shape)\n",
    "print('y_train: ', y_train.shape)\n",
    "print('y_test: ', y_test.shape)"
   ]
  },
  {
   "cell_type": "markdown",
   "id": "48341119",
   "metadata": {
    "papermill": {
     "duration": 0.017492,
     "end_time": "2023-04-27T20:17:37.013101",
     "exception": false,
     "start_time": "2023-04-27T20:17:36.995609",
     "status": "completed"
    },
    "tags": []
   },
   "source": [
    "Model Selection and Training"
   ]
  },
  {
   "cell_type": "code",
   "execution_count": 27,
   "id": "82da704c",
   "metadata": {
    "execution": {
     "iopub.execute_input": "2023-04-27T20:17:37.051626Z",
     "iopub.status.busy": "2023-04-27T20:17:37.051179Z",
     "iopub.status.idle": "2023-04-27T20:17:37.488101Z",
     "shell.execute_reply": "2023-04-27T20:17:37.486549Z"
    },
    "papermill": {
     "duration": 0.46063,
     "end_time": "2023-04-27T20:17:37.491092",
     "exception": false,
     "start_time": "2023-04-27T20:17:37.030462",
     "status": "completed"
    },
    "tags": []
   },
   "outputs": [],
   "source": [
    "from sklearn.ensemble import RandomForestClassifier"
   ]
  },
  {
   "cell_type": "code",
   "execution_count": 28,
   "id": "9b29e807",
   "metadata": {
    "execution": {
     "iopub.execute_input": "2023-04-27T20:17:37.529539Z",
     "iopub.status.busy": "2023-04-27T20:17:37.529086Z",
     "iopub.status.idle": "2023-04-27T20:17:39.884355Z",
     "shell.execute_reply": "2023-04-27T20:17:39.883209Z"
    },
    "papermill": {
     "duration": 2.377798,
     "end_time": "2023-04-27T20:17:39.887302",
     "exception": false,
     "start_time": "2023-04-27T20:17:37.509504",
     "status": "completed"
    },
    "tags": []
   },
   "outputs": [],
   "source": [
    "score = []\n",
    "for i in range(1,51):\n",
    "    clf=RandomForestClassifier(criterion='entropy', n_estimators=i)\n",
    "    #making clf ^^ and giving it an estimator and entropy value\n",
    "    clf.fit(x_train,y_train)\n",
    "    scores=clf.score(x_test,y_test)\n",
    "    score.append(scores)"
   ]
  },
  {
   "cell_type": "code",
   "execution_count": 29,
   "id": "74e55d15",
   "metadata": {
    "execution": {
     "iopub.execute_input": "2023-04-27T20:17:39.926371Z",
     "iopub.status.busy": "2023-04-27T20:17:39.925212Z",
     "iopub.status.idle": "2023-04-27T20:17:39.933082Z",
     "shell.execute_reply": "2023-04-27T20:17:39.931987Z"
    },
    "papermill": {
     "duration": 0.030071,
     "end_time": "2023-04-27T20:17:39.935785",
     "exception": false,
     "start_time": "2023-04-27T20:17:39.905714",
     "status": "completed"
    },
    "tags": []
   },
   "outputs": [],
   "source": [
    "score_rate=pd.DataFrame(data=score,columns = ['Score'])\n",
    "score_rate.insert(loc=0, column ='n_estimators', value=range(1,51))"
   ]
  },
  {
   "cell_type": "code",
   "execution_count": 30,
   "id": "3b162083",
   "metadata": {
    "execution": {
     "iopub.execute_input": "2023-04-27T20:17:39.976938Z",
     "iopub.status.busy": "2023-04-27T20:17:39.976090Z",
     "iopub.status.idle": "2023-04-27T20:17:41.793431Z",
     "shell.execute_reply": "2023-04-27T20:17:41.791968Z"
    },
    "papermill": {
     "duration": 1.841449,
     "end_time": "2023-04-27T20:17:41.796120",
     "exception": false,
     "start_time": "2023-04-27T20:17:39.954671",
     "status": "completed"
    },
    "tags": []
   },
   "outputs": [
    {
     "data": {
      "text/html": [
       "        <script type=\"text/javascript\">\n",
       "        window.PlotlyConfig = {MathJaxConfig: 'local'};\n",
       "        if (window.MathJax && window.MathJax.Hub && window.MathJax.Hub.Config) {window.MathJax.Hub.Config({SVG: {font: \"STIX-Web\"}});}\n",
       "        if (typeof require !== 'undefined') {\n",
       "        require.undef(\"plotly\");\n",
       "        requirejs.config({\n",
       "            paths: {\n",
       "                'plotly': ['https://cdn.plot.ly/plotly-2.18.0.min']\n",
       "            }\n",
       "        });\n",
       "        require(['plotly'], function(Plotly) {\n",
       "            window._Plotly = Plotly;\n",
       "        });\n",
       "        }\n",
       "        </script>\n",
       "        "
      ]
     },
     "metadata": {},
     "output_type": "display_data"
    },
    {
     "data": {
      "text/html": [
       "<div>                            <div id=\"3e317e7d-083a-4d70-9f70-3b507b2114c0\" class=\"plotly-graph-div\" style=\"height:525px; width:100%;\"></div>            <script type=\"text/javascript\">                require([\"plotly\"], function(Plotly) {                    window.PLOTLYENV=window.PLOTLYENV || {};                                    if (document.getElementById(\"3e317e7d-083a-4d70-9f70-3b507b2114c0\")) {                    Plotly.newPlot(                        \"3e317e7d-083a-4d70-9f70-3b507b2114c0\",                        [{\"alignmentgroup\":\"True\",\"hovertemplate\":\"x=%{x}<br>index=%{y}<extra></extra>\",\"legendgroup\":\"\",\"marker\":{\"color\":\"#636efa\",\"pattern\":{\"shape\":\"\"}},\"name\":\"\",\"offsetgroup\":\"\",\"orientation\":\"h\",\"showlegend\":false,\"textposition\":\"auto\",\"x\":[0.95,0.95,0.9333333333333333,0.95,0.9833333333333333,0.9833333333333333,0.95,0.9666666666666667,0.9833333333333333,0.9833333333333333,0.9833333333333333,0.9833333333333333,0.9666666666666667,0.9833333333333333,0.9833333333333333,0.9833333333333333,0.9833333333333333,0.9833333333333333,0.9833333333333333,0.9833333333333333,0.9833333333333333,0.9833333333333333,0.9833333333333333,0.9833333333333333,0.9833333333333333,0.9833333333333333,0.9833333333333333,0.9833333333333333,0.9833333333333333,0.9833333333333333,0.9833333333333333,0.9833333333333333,0.9833333333333333,0.9833333333333333,0.9833333333333333,0.9833333333333333,0.9833333333333333,0.9833333333333333,0.9833333333333333,0.9833333333333333,0.9833333333333333,0.9833333333333333,0.9833333333333333,0.9833333333333333,0.9833333333333333,0.9833333333333333,0.9833333333333333,0.9833333333333333,0.9833333333333333,0.9833333333333333],\"xaxis\":\"x\",\"y\":[0,1,2,3,4,5,6,7,8,9,10,11,12,13,14,15,16,17,18,19,20,21,22,23,24,25,26,27,28,29,30,31,32,33,34,35,36,37,38,39,40,41,42,43,44,45,46,47,48,49],\"yaxis\":\"y\",\"type\":\"bar\"}],                        {\"template\":{\"data\":{\"histogram2dcontour\":[{\"type\":\"histogram2dcontour\",\"colorbar\":{\"outlinewidth\":0,\"ticks\":\"\"},\"colorscale\":[[0.0,\"#0d0887\"],[0.1111111111111111,\"#46039f\"],[0.2222222222222222,\"#7201a8\"],[0.3333333333333333,\"#9c179e\"],[0.4444444444444444,\"#bd3786\"],[0.5555555555555556,\"#d8576b\"],[0.6666666666666666,\"#ed7953\"],[0.7777777777777778,\"#fb9f3a\"],[0.8888888888888888,\"#fdca26\"],[1.0,\"#f0f921\"]]}],\"choropleth\":[{\"type\":\"choropleth\",\"colorbar\":{\"outlinewidth\":0,\"ticks\":\"\"}}],\"histogram2d\":[{\"type\":\"histogram2d\",\"colorbar\":{\"outlinewidth\":0,\"ticks\":\"\"},\"colorscale\":[[0.0,\"#0d0887\"],[0.1111111111111111,\"#46039f\"],[0.2222222222222222,\"#7201a8\"],[0.3333333333333333,\"#9c179e\"],[0.4444444444444444,\"#bd3786\"],[0.5555555555555556,\"#d8576b\"],[0.6666666666666666,\"#ed7953\"],[0.7777777777777778,\"#fb9f3a\"],[0.8888888888888888,\"#fdca26\"],[1.0,\"#f0f921\"]]}],\"heatmap\":[{\"type\":\"heatmap\",\"colorbar\":{\"outlinewidth\":0,\"ticks\":\"\"},\"colorscale\":[[0.0,\"#0d0887\"],[0.1111111111111111,\"#46039f\"],[0.2222222222222222,\"#7201a8\"],[0.3333333333333333,\"#9c179e\"],[0.4444444444444444,\"#bd3786\"],[0.5555555555555556,\"#d8576b\"],[0.6666666666666666,\"#ed7953\"],[0.7777777777777778,\"#fb9f3a\"],[0.8888888888888888,\"#fdca26\"],[1.0,\"#f0f921\"]]}],\"heatmapgl\":[{\"type\":\"heatmapgl\",\"colorbar\":{\"outlinewidth\":0,\"ticks\":\"\"},\"colorscale\":[[0.0,\"#0d0887\"],[0.1111111111111111,\"#46039f\"],[0.2222222222222222,\"#7201a8\"],[0.3333333333333333,\"#9c179e\"],[0.4444444444444444,\"#bd3786\"],[0.5555555555555556,\"#d8576b\"],[0.6666666666666666,\"#ed7953\"],[0.7777777777777778,\"#fb9f3a\"],[0.8888888888888888,\"#fdca26\"],[1.0,\"#f0f921\"]]}],\"contourcarpet\":[{\"type\":\"contourcarpet\",\"colorbar\":{\"outlinewidth\":0,\"ticks\":\"\"}}],\"contour\":[{\"type\":\"contour\",\"colorbar\":{\"outlinewidth\":0,\"ticks\":\"\"},\"colorscale\":[[0.0,\"#0d0887\"],[0.1111111111111111,\"#46039f\"],[0.2222222222222222,\"#7201a8\"],[0.3333333333333333,\"#9c179e\"],[0.4444444444444444,\"#bd3786\"],[0.5555555555555556,\"#d8576b\"],[0.6666666666666666,\"#ed7953\"],[0.7777777777777778,\"#fb9f3a\"],[0.8888888888888888,\"#fdca26\"],[1.0,\"#f0f921\"]]}],\"surface\":[{\"type\":\"surface\",\"colorbar\":{\"outlinewidth\":0,\"ticks\":\"\"},\"colorscale\":[[0.0,\"#0d0887\"],[0.1111111111111111,\"#46039f\"],[0.2222222222222222,\"#7201a8\"],[0.3333333333333333,\"#9c179e\"],[0.4444444444444444,\"#bd3786\"],[0.5555555555555556,\"#d8576b\"],[0.6666666666666666,\"#ed7953\"],[0.7777777777777778,\"#fb9f3a\"],[0.8888888888888888,\"#fdca26\"],[1.0,\"#f0f921\"]]}],\"mesh3d\":[{\"type\":\"mesh3d\",\"colorbar\":{\"outlinewidth\":0,\"ticks\":\"\"}}],\"scatter\":[{\"fillpattern\":{\"fillmode\":\"overlay\",\"size\":10,\"solidity\":0.2},\"type\":\"scatter\"}],\"parcoords\":[{\"type\":\"parcoords\",\"line\":{\"colorbar\":{\"outlinewidth\":0,\"ticks\":\"\"}}}],\"scatterpolargl\":[{\"type\":\"scatterpolargl\",\"marker\":{\"colorbar\":{\"outlinewidth\":0,\"ticks\":\"\"}}}],\"bar\":[{\"error_x\":{\"color\":\"#2a3f5f\"},\"error_y\":{\"color\":\"#2a3f5f\"},\"marker\":{\"line\":{\"color\":\"#E5ECF6\",\"width\":0.5},\"pattern\":{\"fillmode\":\"overlay\",\"size\":10,\"solidity\":0.2}},\"type\":\"bar\"}],\"scattergeo\":[{\"type\":\"scattergeo\",\"marker\":{\"colorbar\":{\"outlinewidth\":0,\"ticks\":\"\"}}}],\"scatterpolar\":[{\"type\":\"scatterpolar\",\"marker\":{\"colorbar\":{\"outlinewidth\":0,\"ticks\":\"\"}}}],\"histogram\":[{\"marker\":{\"pattern\":{\"fillmode\":\"overlay\",\"size\":10,\"solidity\":0.2}},\"type\":\"histogram\"}],\"scattergl\":[{\"type\":\"scattergl\",\"marker\":{\"colorbar\":{\"outlinewidth\":0,\"ticks\":\"\"}}}],\"scatter3d\":[{\"type\":\"scatter3d\",\"line\":{\"colorbar\":{\"outlinewidth\":0,\"ticks\":\"\"}},\"marker\":{\"colorbar\":{\"outlinewidth\":0,\"ticks\":\"\"}}}],\"scattermapbox\":[{\"type\":\"scattermapbox\",\"marker\":{\"colorbar\":{\"outlinewidth\":0,\"ticks\":\"\"}}}],\"scatterternary\":[{\"type\":\"scatterternary\",\"marker\":{\"colorbar\":{\"outlinewidth\":0,\"ticks\":\"\"}}}],\"scattercarpet\":[{\"type\":\"scattercarpet\",\"marker\":{\"colorbar\":{\"outlinewidth\":0,\"ticks\":\"\"}}}],\"carpet\":[{\"aaxis\":{\"endlinecolor\":\"#2a3f5f\",\"gridcolor\":\"white\",\"linecolor\":\"white\",\"minorgridcolor\":\"white\",\"startlinecolor\":\"#2a3f5f\"},\"baxis\":{\"endlinecolor\":\"#2a3f5f\",\"gridcolor\":\"white\",\"linecolor\":\"white\",\"minorgridcolor\":\"white\",\"startlinecolor\":\"#2a3f5f\"},\"type\":\"carpet\"}],\"table\":[{\"cells\":{\"fill\":{\"color\":\"#EBF0F8\"},\"line\":{\"color\":\"white\"}},\"header\":{\"fill\":{\"color\":\"#C8D4E3\"},\"line\":{\"color\":\"white\"}},\"type\":\"table\"}],\"barpolar\":[{\"marker\":{\"line\":{\"color\":\"#E5ECF6\",\"width\":0.5},\"pattern\":{\"fillmode\":\"overlay\",\"size\":10,\"solidity\":0.2}},\"type\":\"barpolar\"}],\"pie\":[{\"automargin\":true,\"type\":\"pie\"}]},\"layout\":{\"autotypenumbers\":\"strict\",\"colorway\":[\"#636efa\",\"#EF553B\",\"#00cc96\",\"#ab63fa\",\"#FFA15A\",\"#19d3f3\",\"#FF6692\",\"#B6E880\",\"#FF97FF\",\"#FECB52\"],\"font\":{\"color\":\"#2a3f5f\"},\"hovermode\":\"closest\",\"hoverlabel\":{\"align\":\"left\"},\"paper_bgcolor\":\"white\",\"plot_bgcolor\":\"#E5ECF6\",\"polar\":{\"bgcolor\":\"#E5ECF6\",\"angularaxis\":{\"gridcolor\":\"white\",\"linecolor\":\"white\",\"ticks\":\"\"},\"radialaxis\":{\"gridcolor\":\"white\",\"linecolor\":\"white\",\"ticks\":\"\"}},\"ternary\":{\"bgcolor\":\"#E5ECF6\",\"aaxis\":{\"gridcolor\":\"white\",\"linecolor\":\"white\",\"ticks\":\"\"},\"baxis\":{\"gridcolor\":\"white\",\"linecolor\":\"white\",\"ticks\":\"\"},\"caxis\":{\"gridcolor\":\"white\",\"linecolor\":\"white\",\"ticks\":\"\"}},\"coloraxis\":{\"colorbar\":{\"outlinewidth\":0,\"ticks\":\"\"}},\"colorscale\":{\"sequential\":[[0.0,\"#0d0887\"],[0.1111111111111111,\"#46039f\"],[0.2222222222222222,\"#7201a8\"],[0.3333333333333333,\"#9c179e\"],[0.4444444444444444,\"#bd3786\"],[0.5555555555555556,\"#d8576b\"],[0.6666666666666666,\"#ed7953\"],[0.7777777777777778,\"#fb9f3a\"],[0.8888888888888888,\"#fdca26\"],[1.0,\"#f0f921\"]],\"sequentialminus\":[[0.0,\"#0d0887\"],[0.1111111111111111,\"#46039f\"],[0.2222222222222222,\"#7201a8\"],[0.3333333333333333,\"#9c179e\"],[0.4444444444444444,\"#bd3786\"],[0.5555555555555556,\"#d8576b\"],[0.6666666666666666,\"#ed7953\"],[0.7777777777777778,\"#fb9f3a\"],[0.8888888888888888,\"#fdca26\"],[1.0,\"#f0f921\"]],\"diverging\":[[0,\"#8e0152\"],[0.1,\"#c51b7d\"],[0.2,\"#de77ae\"],[0.3,\"#f1b6da\"],[0.4,\"#fde0ef\"],[0.5,\"#f7f7f7\"],[0.6,\"#e6f5d0\"],[0.7,\"#b8e186\"],[0.8,\"#7fbc41\"],[0.9,\"#4d9221\"],[1,\"#276419\"]]},\"xaxis\":{\"gridcolor\":\"white\",\"linecolor\":\"white\",\"ticks\":\"\",\"title\":{\"standoff\":15},\"zerolinecolor\":\"white\",\"automargin\":true,\"zerolinewidth\":2},\"yaxis\":{\"gridcolor\":\"white\",\"linecolor\":\"white\",\"ticks\":\"\",\"title\":{\"standoff\":15},\"zerolinecolor\":\"white\",\"automargin\":true,\"zerolinewidth\":2},\"scene\":{\"xaxis\":{\"backgroundcolor\":\"#E5ECF6\",\"gridcolor\":\"white\",\"linecolor\":\"white\",\"showbackground\":true,\"ticks\":\"\",\"zerolinecolor\":\"white\",\"gridwidth\":2},\"yaxis\":{\"backgroundcolor\":\"#E5ECF6\",\"gridcolor\":\"white\",\"linecolor\":\"white\",\"showbackground\":true,\"ticks\":\"\",\"zerolinecolor\":\"white\",\"gridwidth\":2},\"zaxis\":{\"backgroundcolor\":\"#E5ECF6\",\"gridcolor\":\"white\",\"linecolor\":\"white\",\"showbackground\":true,\"ticks\":\"\",\"zerolinecolor\":\"white\",\"gridwidth\":2}},\"shapedefaults\":{\"line\":{\"color\":\"#2a3f5f\"}},\"annotationdefaults\":{\"arrowcolor\":\"#2a3f5f\",\"arrowhead\":0,\"arrowwidth\":1},\"geo\":{\"bgcolor\":\"white\",\"landcolor\":\"#E5ECF6\",\"subunitcolor\":\"white\",\"showland\":true,\"showlakes\":true,\"lakecolor\":\"white\"},\"title\":{\"x\":0.05},\"mapbox\":{\"style\":\"light\"}}},\"xaxis\":{\"anchor\":\"y\",\"domain\":[0.0,1.0],\"title\":{\"text\":\"x\"}},\"yaxis\":{\"anchor\":\"x\",\"domain\":[0.0,1.0],\"title\":{\"text\":\"index\"}},\"legend\":{\"tracegroupgap\":0},\"margin\":{\"t\":60},\"barmode\":\"relative\"},                        {\"responsive\": true}                    ).then(function(){\n",
       "                            \n",
       "var gd = document.getElementById('3e317e7d-083a-4d70-9f70-3b507b2114c0');\n",
       "var x = new MutationObserver(function (mutations, observer) {{\n",
       "        var display = window.getComputedStyle(gd).display;\n",
       "        if (!display || display === 'none') {{\n",
       "            console.log([gd, 'removed!']);\n",
       "            Plotly.purge(gd);\n",
       "            observer.disconnect();\n",
       "        }}\n",
       "}});\n",
       "\n",
       "// Listen for the removal of the full notebook cells\n",
       "var notebookContainer = gd.closest('#notebook-container');\n",
       "if (notebookContainer) {{\n",
       "    x.observe(notebookContainer, {childList: true});\n",
       "}}\n",
       "\n",
       "// Listen for the clearing of the current output cell\n",
       "var outputEl = gd.closest('.output');\n",
       "if (outputEl) {{\n",
       "    x.observe(outputEl, {childList: true});\n",
       "}}\n",
       "\n",
       "                        })                };                });            </script>        </div>"
      ]
     },
     "metadata": {},
     "output_type": "display_data"
    }
   ],
   "source": [
    "x = score_rate['n_estimators']\n",
    "y = score_rate['Score']\n",
    "fig = px.bar(x,y)\n",
    "fig.show()"
   ]
  },
  {
   "cell_type": "code",
   "execution_count": 31,
   "id": "92785da1",
   "metadata": {
    "execution": {
     "iopub.execute_input": "2023-04-27T20:17:41.834236Z",
     "iopub.status.busy": "2023-04-27T20:17:41.833463Z",
     "iopub.status.idle": "2023-04-27T20:17:41.894294Z",
     "shell.execute_reply": "2023-04-27T20:17:41.892880Z"
    },
    "papermill": {
     "duration": 0.082525,
     "end_time": "2023-04-27T20:17:41.896983",
     "exception": false,
     "start_time": "2023-04-27T20:17:41.814458",
     "status": "completed"
    },
    "tags": []
   },
   "outputs": [
    {
     "data": {
      "text/plain": [
       "RandomForestClassifier(criterion='entropy', n_estimators=30)"
      ]
     },
     "execution_count": 31,
     "metadata": {},
     "output_type": "execute_result"
    }
   ],
   "source": [
    "model = RandomForestClassifier(criterion='entropy', n_estimators=30)\n",
    "model.fit(x_train,y_train)"
   ]
  },
  {
   "cell_type": "code",
   "execution_count": 32,
   "id": "b9d2b15a",
   "metadata": {
    "execution": {
     "iopub.execute_input": "2023-04-27T20:17:41.935034Z",
     "iopub.status.busy": "2023-04-27T20:17:41.934181Z",
     "iopub.status.idle": "2023-04-27T20:17:41.948277Z",
     "shell.execute_reply": "2023-04-27T20:17:41.947116Z"
    },
    "papermill": {
     "duration": 0.036055,
     "end_time": "2023-04-27T20:17:41.950864",
     "exception": false,
     "start_time": "2023-04-27T20:17:41.914809",
     "status": "completed"
    },
    "tags": []
   },
   "outputs": [
    {
     "data": {
      "text/plain": [
       "96.66666666666667"
      ]
     },
     "execution_count": 32,
     "metadata": {},
     "output_type": "execute_result"
    }
   ],
   "source": [
    "model.score(x_test,y_test)*100"
   ]
  },
  {
   "cell_type": "code",
   "execution_count": 33,
   "id": "933ae29a",
   "metadata": {
    "execution": {
     "iopub.execute_input": "2023-04-27T20:17:41.988646Z",
     "iopub.status.busy": "2023-04-27T20:17:41.988003Z",
     "iopub.status.idle": "2023-04-27T20:17:42.001796Z",
     "shell.execute_reply": "2023-04-27T20:17:42.000442Z"
    },
    "papermill": {
     "duration": 0.0357,
     "end_time": "2023-04-27T20:17:42.004215",
     "exception": false,
     "start_time": "2023-04-27T20:17:41.968515",
     "status": "completed"
    },
    "tags": []
   },
   "outputs": [
    {
     "data": {
      "text/plain": [
       "array([4, 1, 4, 4, 2, 3, 1, 0, 0, 4, 1, 0, 2, 0, 0, 0, 0, 0, 4, 0, 4, 0,\n",
       "       0, 0, 0, 0, 0, 1, 4, 0, 4, 4, 0, 4, 0, 0, 0, 0, 2, 4, 4, 4, 4, 0,\n",
       "       1, 0, 0, 3, 1, 3, 0, 0, 0, 4, 4, 0, 4, 3, 0, 1])"
      ]
     },
     "execution_count": 33,
     "metadata": {},
     "output_type": "execute_result"
    }
   ],
   "source": [
    "predict = model.predict(x_test)\n",
    "predict"
   ]
  },
  {
   "cell_type": "markdown",
   "id": "8c10af49",
   "metadata": {
    "papermill": {
     "duration": 0.017352,
     "end_time": "2023-04-27T20:17:42.039213",
     "exception": false,
     "start_time": "2023-04-27T20:17:42.021861",
     "status": "completed"
    },
    "tags": []
   },
   "source": [
    "# Model Evaluation"
   ]
  },
  {
   "cell_type": "code",
   "execution_count": 34,
   "id": "31414c79",
   "metadata": {
    "execution": {
     "iopub.execute_input": "2023-04-27T20:17:42.076832Z",
     "iopub.status.busy": "2023-04-27T20:17:42.076189Z",
     "iopub.status.idle": "2023-04-27T20:17:42.083271Z",
     "shell.execute_reply": "2023-04-27T20:17:42.081806Z"
    },
    "papermill": {
     "duration": 0.028775,
     "end_time": "2023-04-27T20:17:42.085735",
     "exception": false,
     "start_time": "2023-04-27T20:17:42.056960",
     "status": "completed"
    },
    "tags": []
   },
   "outputs": [
    {
     "name": "stdout",
     "output_type": "stream",
     "text": [
      "Accuracy Score:  0.9666666666666667\n"
     ]
    }
   ],
   "source": [
    "from sklearn.metrics import accuracy_score\n",
    "print('Accuracy Score: ', accuracy_score(y_test, predict))"
   ]
  },
  {
   "cell_type": "code",
   "execution_count": 35,
   "id": "83380a37",
   "metadata": {
    "execution": {
     "iopub.execute_input": "2023-04-27T20:17:42.124751Z",
     "iopub.status.busy": "2023-04-27T20:17:42.124042Z",
     "iopub.status.idle": "2023-04-27T20:17:42.138390Z",
     "shell.execute_reply": "2023-04-27T20:17:42.136849Z"
    },
    "papermill": {
     "duration": 0.037503,
     "end_time": "2023-04-27T20:17:42.141011",
     "exception": false,
     "start_time": "2023-04-27T20:17:42.103508",
     "status": "completed"
    },
    "tags": []
   },
   "outputs": [
    {
     "name": "stdout",
     "output_type": "stream",
     "text": [
      "              precision    recall  f1-score   support\n",
      "\n",
      "           0       1.00      1.00      1.00        29\n",
      "           1       0.86      1.00      0.92         6\n",
      "           2       1.00      0.75      0.86         4\n",
      "           3       1.00      0.80      0.89         5\n",
      "           4       0.94      1.00      0.97        16\n",
      "\n",
      "    accuracy                           0.97        60\n",
      "   macro avg       0.96      0.91      0.93        60\n",
      "weighted avg       0.97      0.97      0.97        60\n",
      "\n"
     ]
    }
   ],
   "source": [
    "from sklearn.metrics import classification_report\n",
    "print(classification_report(y_test, predict))"
   ]
  },
  {
   "cell_type": "markdown",
   "id": "a43151d3",
   "metadata": {
    "papermill": {
     "duration": 0.018582,
     "end_time": "2023-04-27T20:17:42.178878",
     "exception": false,
     "start_time": "2023-04-27T20:17:42.160296",
     "status": "completed"
    },
    "tags": []
   },
   "source": [
    "Confusion matrix, got statistics above\n"
   ]
  },
  {
   "cell_type": "code",
   "execution_count": 36,
   "id": "5736fb22",
   "metadata": {
    "execution": {
     "iopub.execute_input": "2023-04-27T20:17:42.217548Z",
     "iopub.status.busy": "2023-04-27T20:17:42.216171Z",
     "iopub.status.idle": "2023-04-27T20:17:42.226555Z",
     "shell.execute_reply": "2023-04-27T20:17:42.225476Z"
    },
    "papermill": {
     "duration": 0.032604,
     "end_time": "2023-04-27T20:17:42.229238",
     "exception": false,
     "start_time": "2023-04-27T20:17:42.196634",
     "status": "completed"
    },
    "tags": []
   },
   "outputs": [
    {
     "data": {
      "text/plain": [
       "array([[29,  0,  0,  0,  0],\n",
       "       [ 0,  6,  0,  0,  0],\n",
       "       [ 0,  1,  3,  0,  0],\n",
       "       [ 0,  0,  0,  4,  1],\n",
       "       [ 0,  0,  0,  0, 16]])"
      ]
     },
     "execution_count": 36,
     "metadata": {},
     "output_type": "execute_result"
    }
   ],
   "source": [
    "from sklearn.metrics import confusion_matrix\n",
    "\n",
    "cm = confusion_matrix(y_test, predict)\n",
    "cm"
   ]
  },
  {
   "cell_type": "code",
   "execution_count": 37,
   "id": "55094e49",
   "metadata": {
    "execution": {
     "iopub.execute_input": "2023-04-27T20:17:42.269373Z",
     "iopub.status.busy": "2023-04-27T20:17:42.268192Z",
     "iopub.status.idle": "2023-04-27T20:17:42.604501Z",
     "shell.execute_reply": "2023-04-27T20:17:42.603109Z"
    },
    "papermill": {
     "duration": 0.359688,
     "end_time": "2023-04-27T20:17:42.607149",
     "exception": false,
     "start_time": "2023-04-27T20:17:42.247461",
     "status": "completed"
    },
    "tags": []
   },
   "outputs": [
    {
     "data": {
      "image/png": "[encoded data removed]",
      "text/plain": [
       "<Figure size 640x480 with 2 Axes>"
      ]
     },
     "metadata": {},
     "output_type": "display_data"
    }
   ],
   "source": [
    "# visualize confusion metrix\n",
    "\n",
    "ax = sns.heatmap(cm, annot=True, cmap='Blues')\n",
    "\n",
    "ax.set_title('Confusion Matrix with labels\\n\\n');\n",
    "ax.set_xlabel('\\nPredicted Values')\n",
    "ax.set_ylabel('Actual Values ');\n",
    "\n",
    "plt.show()"
   ]
  },
  {
   "cell_type": "code",
   "execution_count": 38,
   "id": "8f371424",
   "metadata": {
    "execution": {
     "iopub.execute_input": "2023-04-27T20:17:42.648050Z",
     "iopub.status.busy": "2023-04-27T20:17:42.647321Z",
     "iopub.status.idle": "2023-04-27T20:17:42.984657Z",
     "shell.execute_reply": "2023-04-27T20:17:42.983709Z"
    },
    "papermill": {
     "duration": 0.360876,
     "end_time": "2023-04-27T20:17:42.987128",
     "exception": false,
     "start_time": "2023-04-27T20:17:42.626252",
     "status": "completed"
    },
    "tags": []
   },
   "outputs": [
    {
     "data": {
      "image/png": "[encoded data removed]",
      "text/plain": [
       "<Figure size 640x480 with 2 Axes>"
      ]
     },
     "metadata": {},
     "output_type": "display_data"
    }
   ],
   "source": [
    "ax = sns.heatmap(cm/np.sum(cm), annot=True,  fmt='.2%', cmap='Blues')\n",
    "\n",
    "ax.set_title('Confusion Matrix with labels\\n\\n');\n",
    "ax.set_xlabel('\\nPredicted Values')\n",
    "ax.set_ylabel('Actual Values ');\n",
    "\n",
    "plt.show()"
   ]
  },
  {
   "cell_type": "markdown",
   "id": "e548f20c",
   "metadata": {
    "papermill": {
     "duration": 0.019435,
     "end_time": "2023-04-27T20:17:43.026595",
     "exception": false,
     "start_time": "2023-04-27T20:17:43.007160",
     "status": "completed"
    },
    "tags": []
   },
   "source": [
    "Trying on a sample dataset\n",
    "https://scikit-learn.org/stable/tutorial/basic/tutorial.html"
   ]
  },
  {
   "cell_type": "code",
   "execution_count": 39,
   "id": "b21da201",
   "metadata": {
    "execution": {
     "iopub.execute_input": "2023-04-27T20:17:43.068410Z",
     "iopub.status.busy": "2023-04-27T20:17:43.067725Z",
     "iopub.status.idle": "2023-04-27T20:17:43.215873Z",
     "shell.execute_reply": "2023-04-27T20:17:43.214947Z"
    },
    "papermill": {
     "duration": 0.171988,
     "end_time": "2023-04-27T20:17:43.218609",
     "exception": false,
     "start_time": "2023-04-27T20:17:43.046621",
     "status": "completed"
    },
    "tags": []
   },
   "outputs": [],
   "source": [
    "from sklearn import datasets\n",
    "iris = datasets.load_iris()\n",
    "digits = datasets.load_digits()"
   ]
  },
  {
   "cell_type": "code",
   "execution_count": 40,
   "id": "1f3be7b9",
   "metadata": {
    "execution": {
     "iopub.execute_input": "2023-04-27T20:17:43.261717Z",
     "iopub.status.busy": "2023-04-27T20:17:43.260863Z",
     "iopub.status.idle": "2023-04-27T20:17:43.268070Z",
     "shell.execute_reply": "2023-04-27T20:17:43.266222Z"
    },
    "papermill": {
     "duration": 0.032209,
     "end_time": "2023-04-27T20:17:43.271082",
     "exception": false,
     "start_time": "2023-04-27T20:17:43.238873",
     "status": "completed"
    },
    "tags": []
   },
   "outputs": [
    {
     "name": "stdout",
     "output_type": "stream",
     "text": [
      "[[ 0.  0.  5. ...  0.  0.  0.]\n",
      " [ 0.  0.  0. ... 10.  0.  0.]\n",
      " [ 0.  0.  0. ... 16.  9.  0.]\n",
      " ...\n",
      " [ 0.  0.  1. ...  6.  0.  0.]\n",
      " [ 0.  0.  2. ... 12.  0.  0.]\n",
      " [ 0.  0. 10. ... 12.  1.  0.]]\n"
     ]
    }
   ],
   "source": [
    "print(digits.data)"
   ]
  },
  {
   "cell_type": "code",
   "execution_count": 41,
   "id": "dc3ac576",
   "metadata": {
    "execution": {
     "iopub.execute_input": "2023-04-27T20:17:43.312291Z",
     "iopub.status.busy": "2023-04-27T20:17:43.311539Z",
     "iopub.status.idle": "2023-04-27T20:17:43.319546Z",
     "shell.execute_reply": "2023-04-27T20:17:43.318171Z"
    },
    "papermill": {
     "duration": 0.031479,
     "end_time": "2023-04-27T20:17:43.322131",
     "exception": false,
     "start_time": "2023-04-27T20:17:43.290652",
     "status": "completed"
    },
    "tags": []
   },
   "outputs": [
    {
     "data": {
      "text/plain": [
       "array([0, 1, 2, ..., 8, 9, 8])"
      ]
     },
     "execution_count": 41,
     "metadata": {},
     "output_type": "execute_result"
    }
   ],
   "source": [
    "digits.target"
   ]
  },
  {
   "cell_type": "code",
   "execution_count": 42,
   "id": "12f524de",
   "metadata": {
    "execution": {
     "iopub.execute_input": "2023-04-27T20:17:43.364638Z",
     "iopub.status.busy": "2023-04-27T20:17:43.363850Z",
     "iopub.status.idle": "2023-04-27T20:17:43.372263Z",
     "shell.execute_reply": "2023-04-27T20:17:43.370973Z"
    },
    "papermill": {
     "duration": 0.032357,
     "end_time": "2023-04-27T20:17:43.374653",
     "exception": false,
     "start_time": "2023-04-27T20:17:43.342296",
     "status": "completed"
    },
    "tags": []
   },
   "outputs": [
    {
     "data": {
      "text/plain": [
       "array([[ 0.,  0.,  5., 13.,  9.,  1.,  0.,  0.],\n",
       "       [ 0.,  0., 13., 15., 10., 15.,  5.,  0.],\n",
       "       [ 0.,  3., 15.,  2.,  0., 11.,  8.,  0.],\n",
       "       [ 0.,  4., 12.,  0.,  0.,  8.,  8.,  0.],\n",
       "       [ 0.,  5.,  8.,  0.,  0.,  9.,  8.,  0.],\n",
       "       [ 0.,  4., 11.,  0.,  1., 12.,  7.,  0.],\n",
       "       [ 0.,  2., 14.,  5., 10., 12.,  0.,  0.],\n",
       "       [ 0.,  0.,  6., 13., 10.,  0.,  0.,  0.]])"
      ]
     },
     "execution_count": 42,
     "metadata": {},
     "output_type": "execute_result"
    }
   ],
   "source": [
    "digits.images[0]"
   ]
  },
  {
   "cell_type": "code",
   "execution_count": 43,
   "id": "b16780de",
   "metadata": {
    "execution": {
     "iopub.execute_input": "2023-04-27T20:17:43.415709Z",
     "iopub.status.busy": "2023-04-27T20:17:43.415045Z",
     "iopub.status.idle": "2023-04-27T20:17:43.420350Z",
     "shell.execute_reply": "2023-04-27T20:17:43.419445Z"
    },
    "papermill": {
     "duration": 0.028803,
     "end_time": "2023-04-27T20:17:43.422756",
     "exception": false,
     "start_time": "2023-04-27T20:17:43.393953",
     "status": "completed"
    },
    "tags": []
   },
   "outputs": [],
   "source": [
    "from sklearn import svm\n",
    "clf = svm.SVC(gamma=0.001, C=100.)"
   ]
  },
  {
   "cell_type": "code",
   "execution_count": 44,
   "id": "b4ac5427",
   "metadata": {
    "execution": {
     "iopub.execute_input": "2023-04-27T20:17:43.465275Z",
     "iopub.status.busy": "2023-04-27T20:17:43.464481Z",
     "iopub.status.idle": "2023-04-27T20:17:43.581259Z",
     "shell.execute_reply": "2023-04-27T20:17:43.579907Z"
    },
    "papermill": {
     "duration": 0.141398,
     "end_time": "2023-04-27T20:17:43.583842",
     "exception": false,
     "start_time": "2023-04-27T20:17:43.442444",
     "status": "completed"
    },
    "tags": []
   },
   "outputs": [
    {
     "data": {
      "text/plain": [
       "SVC(C=100.0, gamma=0.001)"
      ]
     },
     "execution_count": 44,
     "metadata": {},
     "output_type": "execute_result"
    }
   ],
   "source": [
    "clf.fit(digits.data[:-1], digits.target[:-1])\n"
   ]
  },
  {
   "cell_type": "code",
   "execution_count": 45,
   "id": "4270200c",
   "metadata": {
    "execution": {
     "iopub.execute_input": "2023-04-27T20:17:43.625459Z",
     "iopub.status.busy": "2023-04-27T20:17:43.624612Z",
     "iopub.status.idle": "2023-04-27T20:17:43.633669Z",
     "shell.execute_reply": "2023-04-27T20:17:43.632433Z"
    },
    "papermill": {
     "duration": 0.033068,
     "end_time": "2023-04-27T20:17:43.636500",
     "exception": false,
     "start_time": "2023-04-27T20:17:43.603432",
     "status": "completed"
    },
    "tags": []
   },
   "outputs": [
    {
     "data": {
      "text/plain": [
       "array([8])"
      ]
     },
     "execution_count": 45,
     "metadata": {},
     "output_type": "execute_result"
    }
   ],
   "source": [
    "clf.predict(digits.data[-1:])"
   ]
  },
  {
   "cell_type": "code",
   "execution_count": 46,
   "id": "d5645d85",
   "metadata": {
    "execution": {
     "iopub.execute_input": "2023-04-27T20:17:43.679477Z",
     "iopub.status.busy": "2023-04-27T20:17:43.678652Z",
     "iopub.status.idle": "2023-04-27T20:17:43.689849Z",
     "shell.execute_reply": "2023-04-27T20:17:43.688677Z"
    },
    "papermill": {
     "duration": 0.035912,
     "end_time": "2023-04-27T20:17:43.692759",
     "exception": false,
     "start_time": "2023-04-27T20:17:43.656847",
     "status": "completed"
    },
    "tags": []
   },
   "outputs": [
    {
     "data": {
      "text/plain": [
       "SVC()"
      ]
     },
     "execution_count": 46,
     "metadata": {},
     "output_type": "execute_result"
    }
   ],
   "source": [
    "from sklearn import datasets\n",
    "from sklearn.svm import SVC\n",
    "iris = datasets.load_iris()\n",
    "clf = SVC()\n",
    "clf.fit(iris.data, iris.target)"
   ]
  },
  {
   "cell_type": "code",
   "execution_count": 47,
   "id": "5d379196",
   "metadata": {
    "execution": {
     "iopub.execute_input": "2023-04-27T20:17:43.735422Z",
     "iopub.status.busy": "2023-04-27T20:17:43.734988Z",
     "iopub.status.idle": "2023-04-27T20:17:43.741886Z",
     "shell.execute_reply": "2023-04-27T20:17:43.741068Z"
    },
    "papermill": {
     "duration": 0.03092,
     "end_time": "2023-04-27T20:17:43.744004",
     "exception": false,
     "start_time": "2023-04-27T20:17:43.713084",
     "status": "completed"
    },
    "tags": []
   },
   "outputs": [
    {
     "data": {
      "text/plain": [
       "[0, 0, 0]"
      ]
     },
     "execution_count": 47,
     "metadata": {},
     "output_type": "execute_result"
    }
   ],
   "source": [
    "#tarts with the encoding and number\n",
    "list(clf.predict(iris.data[:3]))"
   ]
  },
  {
   "cell_type": "code",
   "execution_count": 48,
   "id": "bb82ab2c",
   "metadata": {
    "execution": {
     "iopub.execute_input": "2023-04-27T20:17:43.785839Z",
     "iopub.status.busy": "2023-04-27T20:17:43.785396Z",
     "iopub.status.idle": "2023-04-27T20:17:43.795656Z",
     "shell.execute_reply": "2023-04-27T20:17:43.794470Z"
    },
    "papermill": {
     "duration": 0.034414,
     "end_time": "2023-04-27T20:17:43.798318",
     "exception": false,
     "start_time": "2023-04-27T20:17:43.763904",
     "status": "completed"
    },
    "tags": []
   },
   "outputs": [
    {
     "data": {
      "text/plain": [
       "SVC()"
      ]
     },
     "execution_count": 48,
     "metadata": {},
     "output_type": "execute_result"
    }
   ],
   "source": [
    "clf.fit(iris.data, iris.target_names[iris.target])"
   ]
  },
  {
   "cell_type": "code",
   "execution_count": 49,
   "id": "828a1fcc",
   "metadata": {
    "execution": {
     "iopub.execute_input": "2023-04-27T20:17:43.841252Z",
     "iopub.status.busy": "2023-04-27T20:17:43.840621Z",
     "iopub.status.idle": "2023-04-27T20:17:43.848649Z",
     "shell.execute_reply": "2023-04-27T20:17:43.847613Z"
    },
    "papermill": {
     "duration": 0.032645,
     "end_time": "2023-04-27T20:17:43.851157",
     "exception": false,
     "start_time": "2023-04-27T20:17:43.818512",
     "status": "completed"
    },
    "tags": []
   },
   "outputs": [
    {
     "data": {
      "text/plain": [
       "['setosa', 'setosa', 'setosa']"
      ]
     },
     "execution_count": 49,
     "metadata": {},
     "output_type": "execute_result"
    }
   ],
   "source": [
    "list(clf.predict(iris.data[:3]))"
   ]
  }
 ],
 "metadata": {
  "kernelspec": {
   "display_name": "Python 3",
   "language": "python",
   "name": "python3"
  },
  "language_info": {
   "codemirror_mode": {
    "name": "ipython",
    "version": 3
   },
   "file_extension": ".py",
   "mimetype": "text/x-python",
   "name": "python",
   "nbconvert_exporter": "python",
   "pygments_lexer": "ipython3",
   "version": "3.7.12"
  },
  "papermill": {
   "default_parameters": {},
   "duration": 26.435644,
   "end_time": "2023-04-27T20:17:44.895827",
   "environment_variables": {},
   "exception": null,
   "input_path": "__notebook__.ipynb",
   "output_path": "__notebook__.ipynb",
   "parameters": {},
   "start_time": "2023-04-27T20:17:18.460183",
   "version": "2.4.0"
  }
 },
 "nbformat": 4,
 "nbformat_minor": 5
}
